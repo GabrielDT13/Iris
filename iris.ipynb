{
 "cells": [
  {
   "cell_type": "code",
   "execution_count": 1,
   "metadata": {},
   "outputs": [
    {
     "name": "stdout",
     "output_type": "stream",
     "text": [
      "tensor([[-1.5065,  1.2492, -1.5676, -1.3154],\n",
      "        [-0.1737,  3.0908, -1.2834, -1.0522],\n",
      "        [ 1.0380,  0.0982,  0.3649,  0.2641],\n",
      "        [-1.2642,  0.7888, -1.2266, -1.3154],\n",
      "        [-1.7489,  0.3284, -1.3971, -1.3154],\n",
      "        [ 0.5533, -1.2830,  0.7059,  0.9223],\n",
      "        [ 0.6745,  0.3284,  0.4217,  0.3958],\n",
      "        [-0.7795,  1.0190, -1.2834, -1.3154],\n",
      "        [-1.0218,  1.2492, -1.3402, -1.3154],\n",
      "        [-0.7795,  2.4002, -1.2834, -1.4471]])\n",
      "tensor([0, 0, 1, 0, 0, 2, 1, 0, 0, 0])\n",
      "Longitud del conjunto de entrenamiento: 120\n",
      "Longitud del conjunto de test: 30\n"
     ]
    }
   ],
   "source": [
    "import torch\n",
    "from torch import nn, optim\n",
    "from sklearn.datasets import load_iris\n",
    "from sklearn.model_selection import train_test_split\n",
    "from sklearn.preprocessing import StandardScaler\n",
    "import numpy as np\n",
    "\n",
    "# Cargamos el dataset Iris\n",
    "X, y = load_iris(return_X_y=True)\n",
    "\n",
    "# Normalizamos los datos\n",
    "scaler = StandardScaler()\n",
    "X_scaled = scaler.fit_transform(X)\n",
    "\n",
    "# Lo convertimos a tensores de PyTorch\n",
    "X_tensor = torch.tensor(X_scaled, dtype=torch.float32)\n",
    "y_tensor = torch.tensor(y, dtype=torch.long)\n",
    "\n",
    "# Dividimos en conjunto de entrenamiento y de test\n",
    "X_train, X_test, y_train, y_test = train_test_split(X_tensor, y_tensor, test_size=0.2, random_state=42)\n",
    "\n",
    "# Imprimimos los 10 primeros ejemplos y sus etiquetas\n",
    "print(X_train[:10])\n",
    "print(y_train[:10])\n",
    "print(\"Longitud del conjunto de entrenamiento:\", len(X_train))\n",
    "print(\"Longitud del conjunto de test:\", len(X_test))"
   ]
  },
  {
   "cell_type": "code",
   "execution_count": 2,
   "metadata": {},
   "outputs": [
    {
     "name": "stdout",
     "output_type": "stream",
     "text": [
      "IrisNet(\n",
      "  (fc1): Linear(in_features=4, out_features=5, bias=True)\n",
      "  (fc2): Linear(in_features=5, out_features=3, bias=True)\n",
      ")\n",
      "Número de parámetros: 43\n"
     ]
    }
   ],
   "source": [
    "# Definimos el modelo\n",
    "class IrisNet(nn.Module):\n",
    "    def __init__(self):\n",
    "        super(IrisNet, self).__init__()\n",
    "        self.fc1 = nn.Linear(4, 5) # 4 características de entrada, 5 neuronas en la capa oculta\n",
    "        self.fc2 = nn.Linear(5, 3) # 3 clases de salida\n",
    "\n",
    "    def forward(self, x):\n",
    "        x = torch.relu(self.fc1(x))\n",
    "        x = self.fc2(x)\n",
    "        return x  # Fíjate en que no aplicamos la función de activación softmax, ya que la función de pérdida CrossEntropyLoss lo hace por nosotros\n",
    "\n",
    "model = IrisNet()\n",
    "\n",
    "print(model)\n",
    "print(\"Número de parámetros:\", sum(p.numel() for p in model.parameters()))"
   ]
  },
  {
   "cell_type": "code",
   "execution_count": 3,
   "metadata": {},
   "outputs": [],
   "source": [
    "# Definimos el criterio de pérdida y el optimizador\n",
    "criterion = nn.CrossEntropyLoss()\n",
    "optimizer = optim.Adam(model.parameters(), lr=0.01)"
   ]
  },
  {
   "cell_type": "code",
   "execution_count": 4,
   "metadata": {},
   "outputs": [
    {
     "name": "stdout",
     "output_type": "stream",
     "text": [
      "Epoch 1, Loss: 1.1032124757766724\n",
      "Epoch 11, Loss: 0.9077782034873962\n",
      "Epoch 21, Loss: 0.6948903799057007\n",
      "Epoch 31, Loss: 0.5140151381492615\n",
      "Epoch 41, Loss: 0.39988014101982117\n",
      "Epoch 51, Loss: 0.3256687819957733\n",
      "Epoch 61, Loss: 0.2662292420864105\n",
      "Epoch 71, Loss: 0.21919700503349304\n",
      "Epoch 81, Loss: 0.18273359537124634\n",
      "Epoch 91, Loss: 0.1535124033689499\n"
     ]
    }
   ],
   "source": [
    "# Entrenamos el modelo\n",
    "epochs = 100\n",
    "for epoch in range(epochs):\n",
    "    optimizer.zero_grad()\n",
    "    output = model(X_train)  # Pasamos el conjunto de entrenamiento completo, rara vez se hace esto en la práctica\n",
    "    loss = criterion(output, y_train)  # Date cuenta de que pasamos las etiquetas originales, no en formato one-hot\n",
    "    loss.backward()\n",
    "    optimizer.step()\n",
    "\n",
    "    if epoch % 10 == 0:\n",
    "        print(f'Epoch {epoch+1}, Loss: {loss.item()}')"
   ]
  },
  {
   "cell_type": "code",
   "execution_count": 5,
   "metadata": {},
   "outputs": [
    {
     "name": "stdout",
     "output_type": "stream",
     "text": [
      "Accuracy of the model on the test set: 100.0%\n"
     ]
    }
   ],
   "source": [
    "# Evaluamos el modelo\n",
    "with torch.no_grad():\n",
    "    correct = 0\n",
    "    total = y_test.size(0)\n",
    "    outputs = model(X_test)\n",
    "    _, predicted = torch.max(outputs.data, 1)\n",
    "    correct += (predicted == y_test).sum().item()\n",
    "\n",
    "print(f'Accuracy of the model on the test set: {round(100 * correct / total, 2)}%')"
   ]
  }
 ],
 "metadata": {
  "kernelspec": {
   "display_name": "base",
   "language": "python",
   "name": "python3"
  },
  "language_info": {
   "codemirror_mode": {
    "name": "ipython",
    "version": 3
   },
   "file_extension": ".py",
   "mimetype": "text/x-python",
   "name": "python",
   "nbconvert_exporter": "python",
   "pygments_lexer": "ipython3",
   "version": "3.12.7"
  }
 },
 "nbformat": 4,
 "nbformat_minor": 2
}
